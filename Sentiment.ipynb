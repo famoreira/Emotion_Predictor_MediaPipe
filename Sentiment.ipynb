{
 "cells": [
  {
   "cell_type": "code",
   "execution_count": 10,
   "id": "1de1794a-5e7e-412c-891d-ab8b8e48f489",
   "metadata": {},
   "outputs": [
    {
     "name": "stdout",
     "output_type": "stream",
     "text": [
      "Collecting nltk\n",
      "  Downloading nltk-3.7-py3-none-any.whl (1.5 MB)\n",
      "Requirement already satisfied: click in c:\\users\\famor\\.conda\\envs\\torch_gpu\\lib\\site-packages (from nltk) (8.0.4)\n",
      "Collecting regex>=2021.8.3\n",
      "  Downloading regex-2022.9.13-cp38-cp38-win_amd64.whl (267 kB)\n",
      "Requirement already satisfied: tqdm in c:\\users\\famor\\.conda\\envs\\torch_gpu\\lib\\site-packages (from nltk) (4.64.0)\n",
      "Requirement already satisfied: joblib in c:\\users\\famor\\.conda\\envs\\torch_gpu\\lib\\site-packages (from nltk) (1.1.0)\n",
      "Requirement already satisfied: colorama in c:\\users\\famor\\.conda\\envs\\torch_gpu\\lib\\site-packages (from click->nltk) (0.4.4)\n",
      "Installing collected packages: regex, nltk\n",
      "Successfully installed nltk-3.7 regex-2022.9.13\n",
      "Note: you may need to restart the kernel to use updated packages.\n"
     ]
    }
   ],
   "source": [
    "# SOURCE: https://medium.com/analytics-vidhya/sentiment-analyzer-on-opinrank-dataset-4e961dcaecbc\n",
    "#%pip install nltk"
   ]
  },
  {
   "cell_type": "code",
   "execution_count": 1,
   "id": "026fcacf-0c6d-4976-95a7-574fd9a2a397",
   "metadata": {},
   "outputs": [],
   "source": [
    "#changing data from tag format into csv data\n",
    "from bs4 import BeautifulSoup"
   ]
  },
  {
   "cell_type": "code",
   "execution_count": 2,
   "id": "29a80190-f3eb-4ce1-a635-e1cedff4f24c",
   "metadata": {},
   "outputs": [],
   "source": [
    "#data file to load the data\n",
    "data_file = \"2009_audi_/2009_audi_a5\"\n",
    "#csv file to convert data in tag format into csv format\n",
    "csv_file = \"2009_audi_/2009_audi_a5.csv\""
   ]
  },
  {
   "cell_type": "code",
   "execution_count": 3,
   "id": "18596067-901a-4a84-bdba-b225866cb44e",
   "metadata": {},
   "outputs": [],
   "source": [
    "#loading data from the data file in text format\n",
    "with open(data_file) as txt_file:\n",
    "    data = txt_file.read()\n",
    "#data"
   ]
  },
  {
   "cell_type": "code",
   "execution_count": 4,
   "id": "b83878ad-d7d6-4a12-b371-619c6d411d62",
   "metadata": {},
   "outputs": [],
   "source": [
    "#using Beautiful soup to get the data into html format\n",
    "soup = BeautifulSoup(data, 'lxml')\n",
    "\n",
    "#taking list to load the data into csv format\n",
    "csv_data = []\n",
    "#headers for the csv format\n",
    "csv_data.append([\"date\",\"author\",\"text\"])\n",
    "#csv_data.append([\"date\",\"author\",\"text\",\"favorite\"])\n",
    "#finding and printing the data of \"doc\" format\n",
    "for doc_tag in soup.find_all(\"doc\"):\n",
    "    #print(doc_tag)\n",
    "    #loading data in list to append the cummulated data to upper list\n",
    "    raw_data = []\n",
    "    #getting each values for a respective doc tag\n",
    "    raw_data.append(doc_tag.find(\"date\").text)\n",
    "    raw_data.append(doc_tag.find(\"author\").text)\n",
    "    raw_data.append(doc_tag.find(\"text\").text)\n",
    "    #raw_data.append(doc_tag.find(\"favorite\").text)\n",
    "    csv_data.append(raw_data)\n",
    "#data in list of lists format"
   ]
  },
  {
   "cell_type": "code",
   "execution_count": 2,
   "id": "aa040a12-3ea5-4642-a0e5-5aa6df2b32fa",
   "metadata": {},
   "outputs": [],
   "source": [
    "import csv\n",
    "\n",
    "#function to convert list of lists to csv format\n",
    "def write_csv(file,data):\n",
    "    with open(file, 'w', newline='') as file:\n",
    "        writer = csv.writer(file)\n",
    "        writer.writerows(data)"
   ]
  },
  {
   "cell_type": "code",
   "execution_count": 3,
   "id": "949420a8-06c1-4f72-a702-1cb6e0c9e8c3",
   "metadata": {},
   "outputs": [
    {
     "ename": "NameError",
     "evalue": "name 'csv_file' is not defined",
     "output_type": "error",
     "traceback": [
      "\u001b[1;31m---------------------------------------------------------------------------\u001b[0m",
      "\u001b[1;31mNameError\u001b[0m                                 Traceback (most recent call last)",
      "Input \u001b[1;32mIn [3]\u001b[0m, in \u001b[0;36m<cell line: 2>\u001b[1;34m()\u001b[0m\n\u001b[0;32m      1\u001b[0m \u001b[38;5;66;03m#loading the data into csv format\u001b[39;00m\n\u001b[1;32m----> 2\u001b[0m write_csv(\u001b[43mcsv_file\u001b[49m,csv_data)\n",
      "\u001b[1;31mNameError\u001b[0m: name 'csv_file' is not defined"
     ]
    }
   ],
   "source": [
    "#loading the data into csv format\n",
    "write_csv(csv_file,csv_data)"
   ]
  },
  {
   "cell_type": "markdown",
   "id": "ff594e2d-a45c-4744-bcfd-bfa9701f3cc1",
   "metadata": {},
   "source": [
    "START HERE"
   ]
  },
  {
   "cell_type": "code",
   "execution_count": 1,
   "id": "ed194584-5738-44aa-bb62-fe6c49156d03",
   "metadata": {},
   "outputs": [],
   "source": [
    "csv_file = \"2009_audi_/ExtraData.csv\""
   ]
  },
  {
   "cell_type": "code",
   "execution_count": 2,
   "id": "be747611-6046-4673-b667-aae5647f44dd",
   "metadata": {},
   "outputs": [],
   "source": [
    "import pandas as pd"
   ]
  },
  {
   "cell_type": "code",
   "execution_count": 3,
   "id": "16c9f464-f9e3-4f91-949c-b633f9744c87",
   "metadata": {},
   "outputs": [
    {
     "data": {
      "text/html": [
       "<div>\n",
       "<style scoped>\n",
       "    .dataframe tbody tr th:only-of-type {\n",
       "        vertical-align: middle;\n",
       "    }\n",
       "\n",
       "    .dataframe tbody tr th {\n",
       "        vertical-align: top;\n",
       "    }\n",
       "\n",
       "    .dataframe thead th {\n",
       "        text-align: right;\n",
       "    }\n",
       "</style>\n",
       "<table border=\"1\" class=\"dataframe\">\n",
       "  <thead>\n",
       "    <tr style=\"text-align: right;\">\n",
       "      <th></th>\n",
       "      <th>date</th>\n",
       "      <th>author</th>\n",
       "      <th>text</th>\n",
       "    </tr>\n",
       "  </thead>\n",
       "  <tbody>\n",
       "    <tr>\n",
       "      <th>0</th>\n",
       "      <td>2022-06-01</td>\n",
       "      <td>Bee Ginning</td>\n",
       "      <td>Yummy Vietnamese food, good selection on the m...</td>\n",
       "    </tr>\n",
       "    <tr>\n",
       "      <th>1</th>\n",
       "      <td>2022-07-01</td>\n",
       "      <td>nasha nicole</td>\n",
       "      <td>We got the stir fried prawns, chicken, beef an...</td>\n",
       "    </tr>\n",
       "    <tr>\n",
       "      <th>2</th>\n",
       "      <td>2022-08-30</td>\n",
       "      <td>Kim Olivia</td>\n",
       "      <td>Tried lobster pho for the first time, and it w...</td>\n",
       "    </tr>\n",
       "    <tr>\n",
       "      <th>3</th>\n",
       "      <td>2021-10-29</td>\n",
       "      <td>Muyiwa Taiwo</td>\n",
       "      <td>I was craving Vietnamese food yesterday and fo...</td>\n",
       "    </tr>\n",
       "    <tr>\n",
       "      <th>4</th>\n",
       "      <td>2022-02-01</td>\n",
       "      <td>Brayden S</td>\n",
       "      <td>Would give 6 out of 5 if I could! Amazing pho,...</td>\n",
       "    </tr>\n",
       "  </tbody>\n",
       "</table>\n",
       "</div>"
      ],
      "text/plain": [
       "         date        author                                               text\n",
       "0  2022-06-01   Bee Ginning  Yummy Vietnamese food, good selection on the m...\n",
       "1  2022-07-01  nasha nicole  We got the stir fried prawns, chicken, beef an...\n",
       "2  2022-08-30    Kim Olivia  Tried lobster pho for the first time, and it w...\n",
       "3  2021-10-29  Muyiwa Taiwo  I was craving Vietnamese food yesterday and fo...\n",
       "4  2022-02-01     Brayden S  Would give 6 out of 5 if I could! Amazing pho,..."
      ]
     },
     "execution_count": 3,
     "metadata": {},
     "output_type": "execute_result"
    }
   ],
   "source": [
    "#loading the csv data into dataframe\n",
    "df = pd.read_csv(csv_file)\n",
    "df.head(5)"
   ]
  },
  {
   "cell_type": "code",
   "execution_count": 4,
   "id": "1549c902-2074-4313-a7db-bd0318796998",
   "metadata": {},
   "outputs": [
    {
     "name": "stderr",
     "output_type": "stream",
     "text": [
      "[nltk_data] Downloading package vader_lexicon to\n",
      "[nltk_data]     C:\\Users\\famor\\AppData\\Roaming\\nltk_data...\n",
      "[nltk_data]   Package vader_lexicon is already up-to-date!\n"
     ]
    },
    {
     "data": {
      "text/plain": [
       "True"
      ]
     },
     "execution_count": 4,
     "metadata": {},
     "output_type": "execute_result"
    }
   ],
   "source": [
    "#Using nltk to load the sentiment analyzer\n",
    "import nltk\n",
    "nltk.download('vader_lexicon')"
   ]
  },
  {
   "cell_type": "code",
   "execution_count": 5,
   "id": "66ffab3b-9227-4b39-9f38-a975dbdd2864",
   "metadata": {},
   "outputs": [],
   "source": [
    "#lower and upper thresholds\n",
    "threshold_lower = 0.2\n",
    "threshold_upper = 0.65"
   ]
  },
  {
   "cell_type": "code",
   "execution_count": 6,
   "id": "26edf71f-0543-4929-aee9-5dea2e99f651",
   "metadata": {},
   "outputs": [
    {
     "data": {
      "text/html": [
       "<div>\n",
       "<style scoped>\n",
       "    .dataframe tbody tr th:only-of-type {\n",
       "        vertical-align: middle;\n",
       "    }\n",
       "\n",
       "    .dataframe tbody tr th {\n",
       "        vertical-align: top;\n",
       "    }\n",
       "\n",
       "    .dataframe thead th {\n",
       "        text-align: right;\n",
       "    }\n",
       "</style>\n",
       "<table border=\"1\" class=\"dataframe\">\n",
       "  <thead>\n",
       "    <tr style=\"text-align: right;\">\n",
       "      <th></th>\n",
       "      <th>date</th>\n",
       "      <th>author</th>\n",
       "      <th>text</th>\n",
       "      <th>rating_score</th>\n",
       "      <th>rating</th>\n",
       "    </tr>\n",
       "  </thead>\n",
       "  <tbody>\n",
       "    <tr>\n",
       "      <th>0</th>\n",
       "      <td>2022-06-01</td>\n",
       "      <td>Bee Ginning</td>\n",
       "      <td>Yummy Vietnamese food, good selection on the m...</td>\n",
       "      <td>0.9360</td>\n",
       "      <td>Positive</td>\n",
       "    </tr>\n",
       "    <tr>\n",
       "      <th>1</th>\n",
       "      <td>2022-07-01</td>\n",
       "      <td>nasha nicole</td>\n",
       "      <td>We got the stir fried prawns, chicken, beef an...</td>\n",
       "      <td>-0.5767</td>\n",
       "      <td>Negative</td>\n",
       "    </tr>\n",
       "    <tr>\n",
       "      <th>2</th>\n",
       "      <td>2022-08-30</td>\n",
       "      <td>Kim Olivia</td>\n",
       "      <td>Tried lobster pho for the first time, and it w...</td>\n",
       "      <td>0.8589</td>\n",
       "      <td>Positive</td>\n",
       "    </tr>\n",
       "    <tr>\n",
       "      <th>3</th>\n",
       "      <td>2021-10-29</td>\n",
       "      <td>Muyiwa Taiwo</td>\n",
       "      <td>I was craving Vietnamese food yesterday and fo...</td>\n",
       "      <td>0.0000</td>\n",
       "      <td>Negative</td>\n",
       "    </tr>\n",
       "    <tr>\n",
       "      <th>4</th>\n",
       "      <td>2022-02-01</td>\n",
       "      <td>Brayden S</td>\n",
       "      <td>Would give 6 out of 5 if I could! Amazing pho,...</td>\n",
       "      <td>0.9811</td>\n",
       "      <td>Positive</td>\n",
       "    </tr>\n",
       "    <tr>\n",
       "      <th>5</th>\n",
       "      <td>2022-03-03</td>\n",
       "      <td>Jessy</td>\n",
       "      <td>This is some of the best Pho I have ever had, ...</td>\n",
       "      <td>0.8402</td>\n",
       "      <td>Positive</td>\n",
       "    </tr>\n",
       "    <tr>\n",
       "      <th>6</th>\n",
       "      <td>2022-09-29</td>\n",
       "      <td>Ryan Horowitz</td>\n",
       "      <td>Came here for a Saturday afternoon lunch.  Fan...</td>\n",
       "      <td>0.8848</td>\n",
       "      <td>Positive</td>\n",
       "    </tr>\n",
       "    <tr>\n",
       "      <th>7</th>\n",
       "      <td>2022-07-31</td>\n",
       "      <td>Anthony Winder</td>\n",
       "      <td>We stopped by for Vietnamese subs and had an a...</td>\n",
       "      <td>0.8267</td>\n",
       "      <td>Positive</td>\n",
       "    </tr>\n",
       "    <tr>\n",
       "      <th>8</th>\n",
       "      <td>2022-06-01</td>\n",
       "      <td>Dominique Ma</td>\n",
       "      <td>Such a great spot for Vietnamese food! The own...</td>\n",
       "      <td>0.9695</td>\n",
       "      <td>Positive</td>\n",
       "    </tr>\n",
       "    <tr>\n",
       "      <th>9</th>\n",
       "      <td>2022-05-02</td>\n",
       "      <td>Karly Tarney</td>\n",
       "      <td>Saigon is the only Vietnamese you need! All of...</td>\n",
       "      <td>0.9348</td>\n",
       "      <td>Positive</td>\n",
       "    </tr>\n",
       "  </tbody>\n",
       "</table>\n",
       "</div>"
      ],
      "text/plain": [
       "         date          author  \\\n",
       "0  2022-06-01     Bee Ginning   \n",
       "1  2022-07-01    nasha nicole   \n",
       "2  2022-08-30      Kim Olivia   \n",
       "3  2021-10-29    Muyiwa Taiwo   \n",
       "4  2022-02-01       Brayden S   \n",
       "5  2022-03-03           Jessy   \n",
       "6  2022-09-29   Ryan Horowitz   \n",
       "7  2022-07-31  Anthony Winder   \n",
       "8  2022-06-01    Dominique Ma   \n",
       "9  2022-05-02    Karly Tarney   \n",
       "\n",
       "                                                text  rating_score    rating  \n",
       "0  Yummy Vietnamese food, good selection on the m...        0.9360  Positive  \n",
       "1  We got the stir fried prawns, chicken, beef an...       -0.5767  Negative  \n",
       "2  Tried lobster pho for the first time, and it w...        0.8589  Positive  \n",
       "3  I was craving Vietnamese food yesterday and fo...        0.0000  Negative  \n",
       "4  Would give 6 out of 5 if I could! Amazing pho,...        0.9811  Positive  \n",
       "5  This is some of the best Pho I have ever had, ...        0.8402  Positive  \n",
       "6  Came here for a Saturday afternoon lunch.  Fan...        0.8848  Positive  \n",
       "7  We stopped by for Vietnamese subs and had an a...        0.8267  Positive  \n",
       "8  Such a great spot for Vietnamese food! The own...        0.9695  Positive  \n",
       "9  Saigon is the only Vietnamese you need! All of...        0.9348  Positive  "
      ]
     },
     "execution_count": 6,
     "metadata": {},
     "output_type": "execute_result"
    }
   ],
   "source": [
    "#using sentiment analyzer of nltk\n",
    "from nltk.sentiment.vader import SentimentIntensityAnalyzer\n",
    "\n",
    "#loading sentiment Analyzer\n",
    "sid = SentimentIntensityAnalyzer()\n",
    "\n",
    "#storing scores and rating\n",
    "scores = []\n",
    "rating = []\n",
    "\n",
    "#iterating every review\n",
    "for i in df[\"text\"]:\n",
    "    #calculating the sentiment score and comparing threshold\n",
    "    if sid.polarity_scores(i)[\"compound\"] < threshold_lower:\n",
    "        rating.append(\"Negative\")\n",
    "    elif sid.polarity_scores(i)[\"compound\"] < threshold_upper:\n",
    "        rating.append(\"Neutral\")\n",
    "        #print(sid.polarity_scores(i)[\"compound\"])\n",
    "    else:\n",
    "        rating.append(\"Positive\")\n",
    "    #appending scores\n",
    "    scores.append(sid.polarity_scores(i)[\"compound\"])\n",
    "\n",
    "#loading rating score and rating to dataframe\n",
    "df[\"rating_score\"] = scores\n",
    "df[\"rating\"] = rating\n",
    "df.head(10)"
   ]
  },
  {
   "cell_type": "code",
   "execution_count": 10,
   "id": "e944be19-9f08-4819-9590-389bb4365653",
   "metadata": {},
   "outputs": [],
   "source": [
    "df.to_csv('2009_audi_/results.csv', index=False)"
   ]
  },
  {
   "cell_type": "code",
   "execution_count": null,
   "id": "f951cd06-6073-4aba-b0a6-2ad8ec8ee952",
   "metadata": {},
   "outputs": [],
   "source": []
  }
 ],
 "metadata": {
  "kernelspec": {
   "display_name": "Python 3 (ipykernel)",
   "language": "python",
   "name": "python3"
  },
  "language_info": {
   "codemirror_mode": {
    "name": "ipython",
    "version": 3
   },
   "file_extension": ".py",
   "mimetype": "text/x-python",
   "name": "python",
   "nbconvert_exporter": "python",
   "pygments_lexer": "ipython3",
   "version": "3.8.1"
  }
 },
 "nbformat": 4,
 "nbformat_minor": 5
}
