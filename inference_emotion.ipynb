{
 "cells": [
  {
   "cell_type": "code",
   "execution_count": 1,
   "id": "2e3b83a9-063a-4b8d-8afa-deec165b2f9b",
   "metadata": {},
   "outputs": [
    {
     "name": "stdout",
     "output_type": "stream",
     "text": [
      "Found GPU at: /device:GPU:0\n"
     ]
    }
   ],
   "source": [
    "#%tensorflow_version 2.x\n",
    "import tensorflow as tf\n",
    "device_name = tf.test.gpu_device_name()\n",
    "if device_name != '/device:GPU:0':\n",
    "    raise SystemError('GPU device not found')\n",
    "print('Found GPU at: {}'.format(device_name))"
   ]
  },
  {
   "cell_type": "code",
   "execution_count": 2,
   "id": "4ec31371-5496-4242-8c52-6f03ee3e6d43",
   "metadata": {},
   "outputs": [],
   "source": [
    "#!pip install mediapipe"
   ]
  },
  {
   "cell_type": "code",
   "execution_count": 3,
   "id": "9a69b206-9e55-4638-a013-5faf9002ff45",
   "metadata": {},
   "outputs": [],
   "source": [
    "import numpy as np\n",
    "import cv2\n",
    "import mediapipe as mp\n",
    "import time\n",
    "import glob\n",
    "\n",
    "from tensorflow.keras.models import Sequential\n",
    "from tensorflow.keras.layers.experimental.preprocessing import Rescaling\n",
    "from tensorflow.keras.layers import Conv2D, MaxPool2D, Dense, Dropout, Flatten\n",
    "from tensorflow.keras.layers import BatchNormalization\n",
    "from tensorflow.keras.losses import categorical_crossentropy\n",
    "from tensorflow.keras.optimizers import Adam"
   ]
  },
  {
   "cell_type": "code",
   "execution_count": 4,
   "id": "9a824985-c062-4124-a239-bdc8783303bc",
   "metadata": {},
   "outputs": [],
   "source": [
    "emotions = {\n",
    "    0: ['Angry', (0,0,255), (255,255,255)],\n",
    "    1: ['Disgust', (0,102,0), (255,255,255)],\n",
    "    2: ['Fear', (255,255,153), (0,51,51)],\n",
    "    3: ['Happy', (153,0,153), (255,255,255)],\n",
    "    4: ['Sad', (255,0,0), (255,255,255)],\n",
    "    5: ['Surprise', (0,255,0), (255,255,255)],\n",
    "    6: ['Neutral', (160,160,160), (255,255,255)]\n",
    "}\n",
    "num_classes = len(emotions)\n",
    "input_shape = (48, 48, 1)\n",
    "weights_1 = 'saved_models/vggnet.h5'\n",
    "weights_2 = 'saved_models/vggnet_up.h5'"
   ]
  },
  {
   "cell_type": "code",
   "execution_count": 5,
   "id": "93c5bb6a-1959-4541-a643-6e672b345419",
   "metadata": {},
   "outputs": [],
   "source": [
    "class VGGNet(Sequential):\n",
    "    def __init__(self, input_shape, num_classes, checkpoint_path, lr=1e-3):\n",
    "        super().__init__()\n",
    "        self.add(Rescaling(1./255, input_shape=input_shape))\n",
    "        self.add(Conv2D(64, (3, 3), activation='relu', kernel_initializer='he_normal'))\n",
    "        self.add(BatchNormalization())\n",
    "        self.add(Conv2D(64, (3, 3), activation='relu', kernel_initializer='he_normal', padding='same'))\n",
    "        self.add(BatchNormalization())\n",
    "        self.add(MaxPool2D())\n",
    "        self.add(Dropout(0.5))\n",
    "\n",
    "        self.add(Conv2D(128, (3, 3), activation='relu', kernel_initializer='he_normal', padding='same'))\n",
    "        self.add(BatchNormalization())\n",
    "        self.add(Conv2D(128, (3, 3), activation='relu', kernel_initializer='he_normal', padding='same'))\n",
    "        self.add(BatchNormalization())\n",
    "        self.add(MaxPool2D())\n",
    "        self.add(Dropout(0.4))\n",
    "\n",
    "        self.add(Conv2D(256, (3, 3), activation='relu', kernel_initializer='he_normal', padding='same'))\n",
    "        self.add(BatchNormalization())\n",
    "        self.add(Conv2D(256, (3, 3), activation='relu', kernel_initializer='he_normal', padding='same'))\n",
    "        self.add(BatchNormalization())\n",
    "        self.add(MaxPool2D())\n",
    "        self.add(Dropout(0.5))\n",
    "\n",
    "        self.add(Conv2D(512, (3, 3), activation='relu', kernel_initializer='he_normal', padding='same'))\n",
    "        self.add(BatchNormalization())\n",
    "        self.add(Conv2D(512, (3, 3), activation='relu', kernel_initializer='he_normal', padding='same'))\n",
    "        self.add(BatchNormalization())\n",
    "        self.add(MaxPool2D())\n",
    "        self.add(Dropout(0.4))\n",
    "\n",
    "        self.add(Flatten())\n",
    "        \n",
    "        self.add(Dense(1024, activation='relu'))\n",
    "        self.add(Dropout(0.5))\n",
    "        self.add(Dense(256, activation='relu'))\n",
    "\n",
    "        self.add(Dense(num_classes, activation='softmax'))\n",
    "\n",
    "        self.compile(optimizer=Adam(learning_rate=lr),\n",
    "                    loss=categorical_crossentropy,\n",
    "                    metrics=['accuracy'])\n",
    "        \n",
    "        self.checkpoint_path = checkpoint_path"
   ]
  },
  {
   "cell_type": "code",
   "execution_count": 6,
   "id": "b1ac25a5-554e-4006-8557-5c7624381c24",
   "metadata": {},
   "outputs": [],
   "source": [
    "model_1 = VGGNet(input_shape, num_classes, weights_1)\n",
    "model_1.load_weights(model_1.checkpoint_path)\n",
    "\n",
    "model_2 = VGGNet(input_shape, num_classes, weights_2)\n",
    "model_2.load_weights(model_2.checkpoint_path)"
   ]
  },
  {
   "cell_type": "code",
   "execution_count": 7,
   "id": "65bf514e-8dbe-4a9e-9dac-64b8682696a3",
   "metadata": {},
   "outputs": [],
   "source": [
    "mp_face_detection = mp.solutions.face_detection\n",
    "mp_drawing = mp.solutions.drawing_utils\n",
    "face_detection = mp_face_detection.FaceDetection(min_detection_confidence=0.5)"
   ]
  },
  {
   "cell_type": "code",
   "execution_count": 8,
   "id": "fdb67ab0-fe75-473d-8737-0c86c00b7e0c",
   "metadata": {},
   "outputs": [],
   "source": [
    "def detection_preprocessing(image, h_max=360):\n",
    "    h, w, _ = image.shape\n",
    "    if h > h_max:\n",
    "        ratio = h_max / h\n",
    "        w_ = int(w * ratio)\n",
    "        image = cv2.resize(image, (w_,h_max))\n",
    "    return image\n",
    "\n",
    "def resize_face(face):\n",
    "    x = tf.expand_dims(tf.convert_to_tensor(face), axis=2)\n",
    "    return tf.image.resize(x, (48,48))\n",
    "\n",
    "def recognition_preprocessing(faces):\n",
    "    x = tf.convert_to_tensor([resize_face(f) for f in faces])\n",
    "    return x"
   ]
  },
  {
   "cell_type": "code",
   "execution_count": 9,
   "id": "10020fbd-60dd-4767-a8b7-806a9cab8904",
   "metadata": {},
   "outputs": [],
   "source": [
    "def inference(image):\n",
    "    H, W, _ = image.shape\n",
    "    \n",
    "    rgb_image = cv2.cvtColor(image, cv2.COLOR_BGR2RGB)\n",
    "    results = face_detection.process(rgb_image)\n",
    "\n",
    "    if results.detections:\n",
    "        faces = []\n",
    "        pos = []\n",
    "        for detection in results.detections:\n",
    "            box = detection.location_data.relative_bounding_box\n",
    "            # mp_drawing.draw_detection(image, detection)\n",
    "\n",
    "            x = int(box.xmin * W)\n",
    "            y = int(box.ymin * H)\n",
    "            w = int(box.width * W)\n",
    "            h = int(box.height * H)\n",
    "\n",
    "            x1 = max(0, x)\n",
    "            y1 = max(0, y)\n",
    "            x2 = min(x + w, W)\n",
    "            y2 = min(y + h, H)\n",
    "\n",
    "            face = image[y1:y2,x1:x2]\n",
    "            face = cv2.cvtColor(face, cv2.COLOR_BGR2GRAY)\n",
    "            faces.append(face)\n",
    "            pos.append((x1, y1, x2, y2))\n",
    "    \n",
    "        x = recognition_preprocessing(faces)\n",
    "\n",
    "        y_1 = model_1.predict(x)\n",
    "        y_2 = model_2.predict(x)\n",
    "        l = np.argmax(y_1+y_2, axis=1)\n",
    "\n",
    "        for i in range(len(faces)):\n",
    "            cv2.rectangle(image, (pos[i][0],pos[i][1]),\n",
    "                            (pos[i][2],pos[i][3]), emotions[l[i]][1], 2, lineType=cv2.LINE_AA)\n",
    "            \n",
    "            cv2.rectangle(image, (pos[i][0],pos[i][1]-20),\n",
    "                            (pos[i][2]+20,pos[i][1]), emotions[l[i]][1], -1, lineType=cv2.LINE_AA)\n",
    "            \n",
    "            cv2.putText(image, f'{emotions[l[i]][0]}', (pos[i][0],pos[i][1]-5),\n",
    "                            0, 0.6, emotions[l[i]][2], 2, lineType=cv2.LINE_AA)\n",
    "    \n",
    "    return image"
   ]
  },
  {
   "cell_type": "code",
   "execution_count": 10,
   "id": "03547deb-0822-4601-99be-cc6f06fe351a",
   "metadata": {},
   "outputs": [],
   "source": [
    "#vdeo = 'test_video/emotions.mp4'\n",
    "cap = cv2.VideoCapture(1)\n",
    "frame_width = int(cap.get(3))\n",
    "frame_height = int(cap.get(4))\n",
    "fps = cap.get(cv2.CAP_PROP_FPS)\n",
    "target_h = 360\n",
    "target_w = int(target_h * frame_width / frame_height)\n",
    "\n",
    "# out = cv2.VideoWriter('run/out.avi',cv2.VideoWriter_fourcc('M','J','P','G'), fps, (target_w,target_h)) "
   ]
  },
  {
   "cell_type": "code",
   "execution_count": 11,
   "id": "64def56e-2f95-4278-8ef1-356d5345e5ca",
   "metadata": {},
   "outputs": [],
   "source": [
    "while True:\n",
    "    success, image = cap.read()\n",
    "    if success:\n",
    "        #image = resize_image(image)\n",
    "        result = inference(image)\n",
    "       # out.write(result)\n",
    "        cv2.imshow('Emotions', result)\n",
    "        if cv2.waitKey(1) & 0xFF == ord('q'):\n",
    "            break\n",
    "    else:\n",
    "        break\n",
    "    \n",
    "cap.release()\n",
    "cv2.destroyAllWindows()"
   ]
  }
 ],
 "metadata": {
  "kernelspec": {
   "display_name": "Python 3 (ipykernel)",
   "language": "python",
   "name": "python3"
  },
  "language_info": {
   "codemirror_mode": {
    "name": "ipython",
    "version": 3
   },
   "file_extension": ".py",
   "mimetype": "text/x-python",
   "name": "python",
   "nbconvert_exporter": "python",
   "pygments_lexer": "ipython3",
   "version": "3.8.1"
  }
 },
 "nbformat": 4,
 "nbformat_minor": 5
}
